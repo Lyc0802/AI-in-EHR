{
 "cells": [
  {
   "cell_type": "code",
   "execution_count": 2,
   "id": "55948bbf",
   "metadata": {},
   "outputs": [],
   "source": [
    "import numpy as np\n",
    "import pandas as pd\n",
    "import os\n",
    "import matplotlib.pyplot as plt\n",
    "import seaborn as sns\n",
    "import torch\n",
    "import torch.nn as nn\n",
    "import torch.optim as optim\n",
    "from torch.utils.data import Dataset, DataLoader, random_split\n",
    "from sklearn.metrics import roc_auc_score, f1_score, precision_score, recall_score\n",
    "from tqdm import tqdm"
   ]
  },
  {
   "cell_type": "markdown",
   "id": "46143540",
   "metadata": {},
   "source": [
    "## Read Data\n"
   ]
  },
  {
   "cell_type": "code",
   "execution_count": 18,
   "id": "fc4f22e1",
   "metadata": {},
   "outputs": [],
   "source": [
    "def read_data(file_path):\n",
    "    \"\"\"\n",
    "    Reads data from a CSV file and returns the features and labels.\n",
    "\n",
    "    Args:\n",
    "        file_path (str): Path to the CSV file.\n",
    "\n",
    "    Returns:\n",
    "        tuple: A tuple containing the features (X) and labels (y).\n",
    "    \"\"\"\n",
    "    # Check if the file exists\n",
    "    if not os.path.exists(file_path):\n",
    "        raise FileNotFoundError(f\"The file {file_path} does not exist.\")\n",
    "\n",
    "    # Read the CSV file\n",
    "    data = pd.read_csv(file_path)\n",
    "\n",
    "    # Check if the data is empty\n",
    "    if data.empty:\n",
    "        raise ValueError(\"The CSV file is empty.\")\n",
    "\n",
    "    return data"
   ]
  },
  {
   "cell_type": "code",
   "execution_count": null,
   "id": "353cb2b3",
   "metadata": {},
   "outputs": [],
   "source": [
    "chart_event = read_data('data/icu/_chartevents.csv')\n",
    "label_event = read_data(\"data/hosp/_labevents.csv\")\n",
    "patient_basic = read_data(\"data/hosp/_patients.csv\")\n",
    "death = read_data(\"data/label/_label_death.csv\")\n"
   ]
  },
  {
   "cell_type": "markdown",
   "id": "b99afad2",
   "metadata": {},
   "source": [
    "## Data Preprocessing"
   ]
  },
  {
   "cell_type": "markdown",
   "id": "d3540977",
   "metadata": {},
   "source": [
    "### Get Important Data"
   ]
  },
  {
   "cell_type": "code",
   "execution_count": null,
   "id": "c7710e0c",
   "metadata": {},
   "outputs": [],
   "source": [
    "itemIds = [220045, 220210, 220052, 223762, 220179, 226730, 224639]\n",
    "chart_event_filtered_data = chart_event[chart_event['itemid'].isin(itemIds)]\n",
    "\n",
    "chart_event_filtered_data.to_csv('data/icu/_chartevents_filtered.csv', index=False)"
   ]
  },
  {
   "cell_type": "code",
   "execution_count": null,
   "id": "2d79487d",
   "metadata": {},
   "outputs": [],
   "source": [
    "chart_events_filtered_data = read_data('data/icu/_chartevents_filtered.csv')"
   ]
  },
  {
   "cell_type": "code",
   "execution_count": null,
   "id": "27c4ceed",
   "metadata": {},
   "outputs": [],
   "source": [
    "itemIds = [51006, 50863, 50885, 50912, 50931, 51265, 51222]\n",
    "label_event_filtered_data = label_event[label_event['itemid'].isin(itemIds)]\n",
    "# store as csv\n",
    "label_event_filtered_data.to_csv('data/icu/_labevents_filtered.csv', index=False)"
   ]
  },
  {
   "cell_type": "code",
   "execution_count": null,
   "id": "75fcfc8d",
   "metadata": {},
   "outputs": [],
   "source": [
    "chart_events_filtered_data['charttime(sec)'] = pd.to_datetime(chart_events_filtered_data['charttime']).apply(lambda x: int(x.timestamp()))\n",
    "label_event_filtered_data['charttime(sec)'] = pd.to_datetime(label_event_filtered_data['charttime']).apply(lambda x: int(x.timestamp()))\n",
    "\n",
    "\n",
    "print(chart_events_filtered_data.head())\n",
    "print(label_event_filtered_data.head())"
   ]
  },
  {
   "cell_type": "markdown",
   "id": "40acbd8d",
   "metadata": {},
   "source": [
    "### Merge Data"
   ]
  },
  {
   "cell_type": "code",
   "execution_count": null,
   "id": "c170ab30",
   "metadata": {},
   "outputs": [],
   "source": [
    "groups = chart_events_filtered_data.groupby(['subject_id', \"itemid\"])\n",
    "dict = {\"subject_id\":[],\n",
    "        \"itemid\":[],\n",
    "        \"value\": [],}\n",
    "\n",
    "# 範例：對每群執行某個操作，例如計算每群的平均\n",
    "for (a, b), group in groups:\n",
    "    dict[\"subject_id\"].append(group[\"subject_id\"].iloc[0])\n",
    "    dict[\"itemid\"].append(group[\"itemid\"].iloc[0])\n",
    "    dict[\"value\"].append(sum(group[\"value\"]) / len(group[\"value\"]))\n",
    "grouped_chart_events_filtered_data = pd.DataFrame(dict)"
   ]
  },
  {
   "cell_type": "code",
   "execution_count": null,
   "id": "20f23819",
   "metadata": {},
   "outputs": [],
   "source": [
    "def get(values):\n",
    "    x = 0\n",
    "    l = 0\n",
    "    for v in values:\n",
    "        if v != '___':\n",
    "            x += float(v)\n",
    "            l += 1\n",
    "    if l ==0:\n",
    "        return 0\n",
    "    return x/l"
   ]
  },
  {
   "cell_type": "code",
   "execution_count": null,
   "id": "6f792067",
   "metadata": {},
   "outputs": [],
   "source": [
    "groups = label_event_filtered_data.groupby(['subject_id', \"itemid\"])\n",
    "dict = {\"subject_id\":[],\n",
    "        \"itemid\":[],\n",
    "        \"value\": [],}\n",
    "\n",
    "for (a, b), group in groups:\n",
    "    dict[\"subject_id\"].append(group[\"subject_id\"].iloc[0])\n",
    "    dict[\"itemid\"].append(group[\"itemid\"].iloc[0])\n",
    "    dict[\"value\"].append(get(group[\"value\"]))\n",
    "grouped_label_event_filtered_data = pd.DataFrame(dict)"
   ]
  },
  {
   "cell_type": "code",
   "execution_count": null,
   "id": "f7379146",
   "metadata": {},
   "outputs": [],
   "source": [
    "label_event_wide = grouped_label_event_filtered_data.pivot(index='subject_id', columns='itemid', values='value')\n",
    "chart_events_wide = grouped_chart_events_filtered_data.pivot(index='subject_id', columns='itemid', values='value')\n",
    "patiens_data = pd.merge(label_event_wide, chart_events_wide, on='subject_id', how='outer')\n",
    "print(patiens_data.head())"
   ]
  },
  {
   "cell_type": "code",
   "execution_count": null,
   "id": "4c6b30fe",
   "metadata": {},
   "outputs": [],
   "source": [
    "patiens_data = pd.merge(patiens_data, patient_basic[['subject_id', 'gender', 'anchor_age']], on='subject_id', how='left')\n",
    "print(patiens_data.head())"
   ]
  },
  {
   "cell_type": "markdown",
   "id": "7988612b",
   "metadata": {},
   "source": [
    "### Fill Missing Data, Encoding Categorical Data and Standardize Numeric Data"
   ]
  },
  {
   "cell_type": "code",
   "execution_count": null,
   "id": "e3b7f0a9",
   "metadata": {},
   "outputs": [],
   "source": [
    "patiens_data[\"gender\"] = patiens_data[\"gender\"].apply(lambda x: 0 if x == 'M' else 1)\n",
    "print(patiens_data.head())\n"
   ]
  },
  {
   "cell_type": "code",
   "execution_count": null,
   "id": "c691b976",
   "metadata": {},
   "outputs": [],
   "source": [
    "for col in patiens_data.columns:\n",
    "    if patiens_data[col].dtype in ['float64', 'int64']:  # 只處理數值欄位\n",
    "        median_value = patiens_data[col].median()\n",
    "        patiens_data[col] = patiens_data[col].fillna(median_value)\n",
    "print(patiens_data.head())\n"
   ]
  },
  {
   "cell_type": "code",
   "execution_count": null,
   "id": "856c29b1",
   "metadata": {},
   "outputs": [],
   "source": [
    "for col in patiens_data.columns:\n",
    "    if col == \"subject_id\" or col == \"gender\": continue\n",
    "    if patiens_data[col].dtype in ['float64', 'int64']:  # 只處理數值欄位\n",
    "        mu = np.mean( patiens_data[col])\n",
    "        std = np.std( patiens_data[col])\n",
    "        patiens_data[col] = patiens_data[col].apply(lambda x: (x - mu)/std)\n",
    "print(patiens_data.head())\n"
   ]
  },
  {
   "cell_type": "code",
   "execution_count": null,
   "id": "3a3a825c",
   "metadata": {},
   "outputs": [],
   "source": [
    "death_id = death[\"subject_id\"]\n",
    "patiens_data[\"death\"] = patiens_data[\"subject_id\"].apply(lambda x: 1 if x in death_id.values else 0)\n",
    "print(patiens_data.head())\n",
    "print(len(patiens_data[\"subject_id\"]))"
   ]
  },
  {
   "cell_type": "code",
   "execution_count": null,
   "id": "4cad9269",
   "metadata": {},
   "outputs": [],
   "source": [
    "patiens_data.to_csv(\"data/preprocessed_data.csv\", index=False)"
   ]
  },
  {
   "cell_type": "code",
   "execution_count": 19,
   "id": "faf9929c",
   "metadata": {},
   "outputs": [
    {
     "name": "stdout",
     "output_type": "stream",
     "text": [
      "   subject_id     50863     50885     50912     50931     51006     51222  \\\n",
      "0      100001 -0.209779 -0.188892 -0.094490  2.000875 -0.517688 -1.975948   \n",
      "1      100002 -0.209779 -0.188892 -0.392939 -0.358453 -0.542447 -0.004123   \n",
      "2      100003 -0.209779 -0.188892 -0.483590 -0.358453 -0.651956  1.414127   \n",
      "3      100004 -0.209779 -0.188892 -0.295316 -0.358453 -0.310443 -0.118803   \n",
      "4      100005 -0.428716 -0.188892 -0.178167  2.514182 -0.763370 -0.521098   \n",
      "\n",
      "      51265    220045    220052    220179    220210    223762    224639  \\\n",
      "0  3.380409  0.175613 -0.036692 -0.234006 -0.873777 -0.018018 -0.095061   \n",
      "1  0.188842  0.449380 -0.036692 -0.038007  0.613452 -0.018018 -0.095061   \n",
      "2  0.338626  0.173795 -0.036692 -0.043335  0.895369 -0.018018 -0.095061   \n",
      "3 -0.149753  0.045016 -0.036692  0.300045  1.328421 -0.018018 -0.095061   \n",
      "4 -0.362866 -0.576451  0.735917 -0.156299  0.699366 -0.018018 -0.498382   \n",
      "\n",
      "     226730  gender  anchor_age  death  \n",
      "0 -0.007551       0   -0.710272      0  \n",
      "1 -0.007551       0    0.404885      0  \n",
      "2 -0.007551       1    0.052730      0  \n",
      "3 -0.007551       1    1.226580      0  \n",
      "4 -0.007237       0   -1.942815      0  \n"
     ]
    }
   ],
   "source": [
    "patiens_data = read_data(\"data/preprocessed_data.csv\")\n",
    "print(patiens_data.head())"
   ]
  },
  {
   "cell_type": "markdown",
   "id": "ce80937d",
   "metadata": {},
   "source": [
    "# Model"
   ]
  },
  {
   "cell_type": "markdown",
   "id": "1f6775b6",
   "metadata": {},
   "source": [
    "## Load Data"
   ]
  },
  {
   "cell_type": "code",
   "execution_count": 37,
   "id": "1ade5107",
   "metadata": {},
   "outputs": [],
   "source": [
    "class TimeSeriesDataset(Dataset):\n",
    "    def __init__(self, csv_path):\n",
    "        df = pd.read_csv(csv_path)\n",
    "        feature_cols = [col for col in df.columns if col not in ['subject_id', 'death']]\n",
    "        grouped = df.groupby('subject_id')\n",
    "\n",
    "        self.inputs = []\n",
    "        self.labels = []\n",
    "\n",
    "        for subject_id, group in grouped:\n",
    "            group = group.sort_index()  # 如果沒有時間欄位，可以先這樣排；有的話可改成 sort_values('time')\n",
    "            features = group[feature_cols].drop(columns=['death'], errors='ignore').values.astype(np.float32)\n",
    "            label = group['death'].values[0]\n",
    "            self.inputs.append(torch.tensor(features, dtype=torch.float32))\n",
    "            self.labels.append(torch.tensor(label, dtype=torch.float32))\n",
    "\n",
    "        self.inputs = torch.stack(self.inputs)\n",
    "        self.labels = torch.stack(self.labels)\n",
    "\n",
    "    def __len__(self):\n",
    "        return len(self.inputs)\n",
    "\n",
    "    def __getitem__(self, idx):\n",
    "        return self.inputs[idx], self.labels[idx]\n"
   ]
  },
  {
   "cell_type": "code",
   "execution_count": 38,
   "id": "873f28ef",
   "metadata": {},
   "outputs": [],
   "source": [
    "# ======================= Models ============================\n",
    "class MLP(nn.Module):\n",
    "    def __init__(self, input_shape):\n",
    "        super().__init__()\n",
    "        self.model = nn.Sequential(\n",
    "            nn.Flatten(),\n",
    "            nn.Linear(input_shape[0] * input_shape[1], 256),\n",
    "            nn.ReLU(),\n",
    "            nn.Linear(256, 64),\n",
    "            nn.ReLU(),\n",
    "            nn.Linear(64, 1),\n",
    "            nn.Sigmoid()\n",
    "        )\n",
    "\n",
    "    def forward(self, x):\n",
    "        return self.model(x)\n",
    "\n",
    "class RNNModel(nn.Module):\n",
    "    def __init__(self, input_size, hidden_size=64):\n",
    "        super().__init__()\n",
    "        self.rnn = nn.LSTM(input_size, hidden_size, batch_first=True)\n",
    "        self.fc = nn.Sequential(\n",
    "            nn.Linear(hidden_size, 32),\n",
    "            nn.ReLU(),\n",
    "            nn.Linear(32, 1),\n",
    "            nn.Sigmoid()\n",
    "        )\n",
    "\n",
    "    def forward(self, x):\n",
    "        _, (h_n, _) = self.rnn(x)\n",
    "        return self.fc(h_n[-1])\n",
    "\n",
    "class SAINT(nn.Module):\n",
    "    def __init__(self, input_dim, seq_len, embed_dim=64, num_heads=4, num_layers=2):\n",
    "        super().__init__()\n",
    "        self.embedding = nn.Linear(input_dim, embed_dim)\n",
    "        encoder_layer = nn.TransformerEncoderLayer(d_model=embed_dim, nhead=num_heads)\n",
    "        self.transformer = nn.TransformerEncoder(encoder_layer, num_layers=num_layers)\n",
    "        self.fc = nn.Sequential(\n",
    "            nn.Linear(embed_dim * seq_len, 64),\n",
    "            nn.ReLU(),\n",
    "            nn.Linear(64, 1),\n",
    "            nn.Sigmoid()\n",
    "        )\n",
    "\n",
    "    def forward(self, x):\n",
    "        x = self.embedding(x)\n",
    "        x = self.transformer(x)\n",
    "        x = x.flatten(1)\n",
    "        return self.fc(x)"
   ]
  },
  {
   "cell_type": "code",
   "execution_count": 49,
   "id": "59f84cad",
   "metadata": {},
   "outputs": [],
   "source": [
    "def train_model(model, train_loader, test_loader, device, epochs=10):\n",
    "    model = model.to(device)\n",
    "    optimizer = optim.Adam(model.parameters(), lr=1e-3)\n",
    "    criterion = nn.BCELoss()\n",
    "    train_loss, test_loss = [], []\n",
    "\n",
    "    best_epoch = 0\n",
    "    best_test_loss = float('inf')\n",
    "    best_preds = None\n",
    "    best_labels = None\n",
    "    best_state_dict = None\n",
    "\n",
    "    for epoch in range(epochs):\n",
    "        model.train()\n",
    "        total = 0\n",
    "        running_loss = 0.0\n",
    "        for X, y in tqdm(train_loader, desc=f\"[Train] Epoch {epoch+1}\"):\n",
    "            X, y = X.to(device), y.to(device).unsqueeze(1)\n",
    "            optimizer.zero_grad()\n",
    "            pred = model(X)\n",
    "            loss = criterion(pred, y)\n",
    "            loss.backward()\n",
    "            optimizer.step()\n",
    "            running_loss += loss.item() * X.size(0)\n",
    "            total += X.size(0)\n",
    "        train_loss.append(running_loss / total)\n",
    "\n",
    "        model.eval()\n",
    "        running_loss = 0.0\n",
    "        preds_epoch = []\n",
    "        labels_epoch = []\n",
    "        with torch.no_grad():\n",
    "            for X, y in test_loader:\n",
    "                X, y = X.to(device), y.to(device).unsqueeze(1)\n",
    "                pred = model(X)\n",
    "                loss = criterion(pred, y)\n",
    "                running_loss += loss.item() * X.size(0)\n",
    "                preds_epoch.extend(pred.cpu().numpy())\n",
    "                labels_epoch.extend(y.cpu().numpy())\n",
    "        epoch_test_loss = running_loss / len(test_loader.dataset)\n",
    "        test_loss.append(epoch_test_loss)\n",
    "\n",
    "        if epoch_test_loss < best_test_loss:\n",
    "            best_test_loss = epoch_test_loss\n",
    "            best_epoch = epoch\n",
    "            best_preds = np.array(preds_epoch).flatten()\n",
    "            best_labels = np.array(labels_epoch).flatten()\n",
    "            best_state_dict = model.state_dict()\n",
    "\n",
    "    model.load_state_dict(best_state_dict)\n",
    "    return best_epoch, train_loss, test_loss, best_preds, best_labels\n",
    "\n",
    "\n",
    "# ----------------- Evaluation Function -----------------\n",
    "def evaluate(preds, labels):\n",
    "    preds_bin = (preds >= 0.5).astype(int)\n",
    "    return {\n",
    "        \"AUC\": roc_auc_score(labels, preds),\n",
    "        \"F1\": f1_score(labels, preds_bin),\n",
    "        \"Precision\": precision_score(labels, preds_bin),\n",
    "        \"Recall\": recall_score(labels, preds_bin)\n",
    "    }"
   ]
  },
  {
   "cell_type": "markdown",
   "id": "8fac280b",
   "metadata": {},
   "source": [
    "## MLP"
   ]
  },
  {
   "cell_type": "code",
   "execution_count": 40,
   "id": "ba80a438",
   "metadata": {},
   "outputs": [],
   "source": [
    "csv_path = \"data/preprocessed_data.csv\"  # 請換成你的實際路徑\n",
    "dataset = TimeSeriesDataset(csv_path)\n",
    "\n",
    "train_size = int(0.8 * len(dataset))\n",
    "test_size = len(dataset) - train_size\n",
    "train_dataset, test_dataset = random_split(dataset, [train_size, test_size])\n",
    "train_loader = DataLoader(train_dataset, batch_size=64, shuffle=True)\n",
    "test_loader = DataLoader(test_dataset, batch_size=64)\n",
    "\n",
    "input_shape = dataset[0][0].shape\n",
    "device = 'cuda' if torch.cuda.is_available() else 'cpu'"
   ]
  },
  {
   "cell_type": "markdown",
   "id": "c6d79a1e",
   "metadata": {},
   "source": [
    "### No Time Line"
   ]
  },
  {
   "cell_type": "code",
   "execution_count": 57,
   "id": "afcf553e",
   "metadata": {},
   "outputs": [],
   "source": [
    "from sklearn.model_selection import train_test_split\n",
    "\n",
    "def evaluate(preds, labels):\n",
    "    preds_bin = (preds >= 0.5).astype(int)\n",
    "    result = {}\n",
    "\n",
    "    if len(np.unique(labels)) < 2:\n",
    "        result[\"AUC\"] = float(\"nan\")\n",
    "    else:\n",
    "        result[\"AUC\"] = roc_auc_score(labels, preds)\n",
    "\n",
    "    result[\"F1\"] = f1_score(labels, preds_bin)\n",
    "    result[\"Precision\"] = precision_score(labels, preds_bin, zero_division=0)\n",
    "    result[\"Recall\"] = recall_score(labels, preds_bin, zero_division=0)\n",
    "\n",
    "    return result\n",
    "\n",
    "def main():\n",
    "    csv_path = \"data/preprocessed_data.csv\"  # ← 你自己的 CSV 檔路徑\n",
    "    dataset = TimeSeriesDataset(csv_path)\n",
    "    input_shape = dataset[0][0].shape\n",
    "\n",
    "    # 取得標籤，用於 stratify split\n",
    "    labels = [int(dataset[i][1]) for i in range(len(dataset))]\n",
    "    indices = list(range(len(dataset)))\n",
    "\n",
    "    train_idx, test_idx = train_test_split(\n",
    "        indices,\n",
    "        test_size=0.2,\n",
    "        stratify=labels,\n",
    "        random_state=42\n",
    "    )\n",
    "\n",
    "    train_dataset = torch.utils.data.Subset(dataset, train_idx)\n",
    "    test_dataset = torch.utils.data.Subset(dataset, test_idx)\n",
    "    train_loader = DataLoader(train_dataset, batch_size=64, shuffle=True)\n",
    "    test_loader = DataLoader(test_dataset, batch_size=64)\n",
    "\n",
    "    device = torch.device(\"cuda\" if torch.cuda.is_available() else \"cpu\")\n",
    "    print(f\"✅ Using device: {device}\")\n",
    "\n",
    "    models = {\n",
    "        \"MLP\": MLP(input_shape),\n",
    "        \"RNN\": RNNModel(input_size=input_shape[1]),\n",
    "        \"SAINT\": SAINT(input_dim=input_shape[1], seq_len=input_shape[0])\n",
    "    }\n",
    "\n",
    "    history = {}\n",
    "    metrics = {}\n",
    "    best_epochs = {}\n",
    "    for name, model in models.items():\n",
    "        print(f\"\\n🚀 Training {name}\")\n",
    "        best_epoch, train_loss, test_loss, preds, labels = train_model(model, train_loader, test_loader, device, 50)\n",
    "        result = evaluate(preds, labels)\n",
    "        history[name] = (train_loss, test_loss)\n",
    "        metrics[name] = result\n",
    "        best_epochs[name] = best_epoch\n",
    "\n",
    "    # Plot losses\n",
    "    plt.figure(figsize=(10, 6))\n",
    "    for name, (tr, te) in history.items():\n",
    "        plt.plot(tr, label=f'{name} Train')\n",
    "        plt.plot(te, label=f'{name} Test')\n",
    "    plt.xlabel(\"Epoch\")\n",
    "    plt.ylabel(\"Loss\")\n",
    "    plt.title(\"Training vs Test Loss\")\n",
    "    plt.legend()\n",
    "    plt.grid(True)\n",
    "    plt.tight_layout()\n",
    "    plt.savefig(\"loss_comparison.png\")\n",
    "    print(\"📊 Saved: loss_comparison.png\")\n",
    "\n",
    "    # Print metrics\n",
    "    df_metrics = pd.DataFrame(metrics).T\n",
    "    print(\"\\n📈 Evaluation Metrics:\")\n",
    "    print(df_metrics.round(4))\n",
    "    df_metrics.to_csv(\"model_metrics.csv\")\n",
    "    print(\"📁 Saved: model_metrics.csv\")\n",
    "    print(best_epochs)\n"
   ]
  },
  {
   "cell_type": "code",
   "execution_count": 58,
   "id": "6fe4de75",
   "metadata": {},
   "outputs": [
    {
     "name": "stderr",
     "output_type": "stream",
     "text": [
      "c:\\Users\\lin07\\anaconda3\\Lib\\site-packages\\torch\\nn\\modules\\transformer.py:385: UserWarning: enable_nested_tensor is True, but self.use_nested_tensor is False because encoder_layer.self_attn.batch_first was not True(use batch_first for better inference performance)\n",
      "  warnings.warn(\n"
     ]
    },
    {
     "name": "stdout",
     "output_type": "stream",
     "text": [
      "✅ Using device: cuda\n",
      "\n",
      "🚀 Training MLP\n"
     ]
    },
    {
     "name": "stderr",
     "output_type": "stream",
     "text": [
      "[Train] Epoch 1: 100%|██████████| 217/217 [00:00<00:00, 538.24it/s]\n",
      "[Train] Epoch 2: 100%|██████████| 217/217 [00:00<00:00, 615.88it/s]\n",
      "[Train] Epoch 3: 100%|██████████| 217/217 [00:00<00:00, 574.29it/s]\n",
      "[Train] Epoch 4: 100%|██████████| 217/217 [00:00<00:00, 575.41it/s]\n",
      "[Train] Epoch 5: 100%|██████████| 217/217 [00:00<00:00, 595.06it/s]\n",
      "[Train] Epoch 6: 100%|██████████| 217/217 [00:00<00:00, 608.00it/s]\n",
      "[Train] Epoch 7: 100%|██████████| 217/217 [00:00<00:00, 583.89it/s]\n",
      "[Train] Epoch 8: 100%|██████████| 217/217 [00:00<00:00, 638.94it/s]\n",
      "[Train] Epoch 9: 100%|██████████| 217/217 [00:00<00:00, 576.41it/s]\n",
      "[Train] Epoch 10: 100%|██████████| 217/217 [00:00<00:00, 586.05it/s]\n",
      "[Train] Epoch 11: 100%|██████████| 217/217 [00:00<00:00, 566.41it/s]\n",
      "[Train] Epoch 12: 100%|██████████| 217/217 [00:00<00:00, 519.74it/s]\n",
      "[Train] Epoch 13: 100%|██████████| 217/217 [00:00<00:00, 471.23it/s]\n",
      "[Train] Epoch 14: 100%|██████████| 217/217 [00:00<00:00, 587.56it/s]\n",
      "[Train] Epoch 15: 100%|██████████| 217/217 [00:00<00:00, 586.69it/s]\n",
      "[Train] Epoch 16: 100%|██████████| 217/217 [00:00<00:00, 610.46it/s]\n",
      "[Train] Epoch 17: 100%|██████████| 217/217 [00:00<00:00, 588.85it/s]\n",
      "[Train] Epoch 18: 100%|██████████| 217/217 [00:00<00:00, 549.78it/s]\n",
      "[Train] Epoch 19: 100%|██████████| 217/217 [00:00<00:00, 510.65it/s]\n",
      "[Train] Epoch 20: 100%|██████████| 217/217 [00:00<00:00, 590.14it/s]\n",
      "[Train] Epoch 21: 100%|██████████| 217/217 [00:00<00:00, 589.27it/s]\n",
      "[Train] Epoch 22: 100%|██████████| 217/217 [00:00<00:00, 551.58it/s]\n",
      "[Train] Epoch 23: 100%|██████████| 217/217 [00:00<00:00, 565.19it/s]\n",
      "[Train] Epoch 24: 100%|██████████| 217/217 [00:00<00:00, 557.14it/s]\n",
      "[Train] Epoch 25: 100%|██████████| 217/217 [00:00<00:00, 588.99it/s]\n",
      "[Train] Epoch 26: 100%|██████████| 217/217 [00:00<00:00, 634.70it/s]\n",
      "[Train] Epoch 27: 100%|██████████| 217/217 [00:00<00:00, 616.92it/s]\n",
      "[Train] Epoch 28: 100%|██████████| 217/217 [00:00<00:00, 583.34it/s]\n",
      "[Train] Epoch 29: 100%|██████████| 217/217 [00:00<00:00, 576.42it/s]\n",
      "[Train] Epoch 30: 100%|██████████| 217/217 [00:00<00:00, 548.10it/s]\n",
      "[Train] Epoch 31: 100%|██████████| 217/217 [00:00<00:00, 536.75it/s]\n",
      "[Train] Epoch 32: 100%|██████████| 217/217 [00:00<00:00, 611.80it/s]\n",
      "[Train] Epoch 33: 100%|██████████| 217/217 [00:00<00:00, 588.17it/s]\n",
      "[Train] Epoch 34: 100%|██████████| 217/217 [00:00<00:00, 593.48it/s]\n",
      "[Train] Epoch 35: 100%|██████████| 217/217 [00:00<00:00, 568.64it/s]\n",
      "[Train] Epoch 36: 100%|██████████| 217/217 [00:00<00:00, 548.39it/s]\n",
      "[Train] Epoch 37: 100%|██████████| 217/217 [00:00<00:00, 536.38it/s]\n",
      "[Train] Epoch 38: 100%|██████████| 217/217 [00:00<00:00, 538.19it/s]\n",
      "[Train] Epoch 39: 100%|██████████| 217/217 [00:00<00:00, 545.99it/s]\n",
      "[Train] Epoch 40: 100%|██████████| 217/217 [00:00<00:00, 530.90it/s]\n",
      "[Train] Epoch 41: 100%|██████████| 217/217 [00:00<00:00, 524.92it/s]\n",
      "[Train] Epoch 42: 100%|██████████| 217/217 [00:00<00:00, 568.58it/s]\n",
      "[Train] Epoch 43: 100%|██████████| 217/217 [00:00<00:00, 580.45it/s]\n",
      "[Train] Epoch 44: 100%|██████████| 217/217 [00:00<00:00, 516.58it/s]\n",
      "[Train] Epoch 45: 100%|██████████| 217/217 [00:00<00:00, 543.37it/s]\n",
      "[Train] Epoch 46: 100%|██████████| 217/217 [00:00<00:00, 552.21it/s]\n",
      "[Train] Epoch 47: 100%|██████████| 217/217 [00:00<00:00, 518.85it/s]\n",
      "[Train] Epoch 48: 100%|██████████| 217/217 [00:00<00:00, 482.34it/s]\n",
      "[Train] Epoch 49: 100%|██████████| 217/217 [00:00<00:00, 546.58it/s]\n",
      "[Train] Epoch 50: 100%|██████████| 217/217 [00:00<00:00, 573.58it/s]\n"
     ]
    },
    {
     "name": "stdout",
     "output_type": "stream",
     "text": [
      "\n",
      "🚀 Training RNN\n"
     ]
    },
    {
     "name": "stderr",
     "output_type": "stream",
     "text": [
      "[Train] Epoch 1: 100%|██████████| 217/217 [00:00<00:00, 248.64it/s]\n",
      "[Train] Epoch 2: 100%|██████████| 217/217 [00:00<00:00, 325.71it/s]\n",
      "[Train] Epoch 3: 100%|██████████| 217/217 [00:00<00:00, 370.41it/s]\n",
      "[Train] Epoch 4: 100%|██████████| 217/217 [00:00<00:00, 381.97it/s]\n",
      "[Train] Epoch 5: 100%|██████████| 217/217 [00:00<00:00, 377.67it/s]\n",
      "[Train] Epoch 6: 100%|██████████| 217/217 [00:00<00:00, 383.98it/s]\n",
      "[Train] Epoch 7: 100%|██████████| 217/217 [00:00<00:00, 443.36it/s]\n",
      "[Train] Epoch 8: 100%|██████████| 217/217 [00:00<00:00, 449.55it/s]\n",
      "[Train] Epoch 9: 100%|██████████| 217/217 [00:00<00:00, 445.14it/s]\n",
      "[Train] Epoch 10: 100%|██████████| 217/217 [00:00<00:00, 425.96it/s]\n",
      "[Train] Epoch 11: 100%|██████████| 217/217 [00:00<00:00, 452.30it/s]\n",
      "[Train] Epoch 12: 100%|██████████| 217/217 [00:00<00:00, 430.37it/s]\n",
      "[Train] Epoch 13: 100%|██████████| 217/217 [00:00<00:00, 434.38it/s]\n",
      "[Train] Epoch 14: 100%|██████████| 217/217 [00:00<00:00, 378.52it/s]\n",
      "[Train] Epoch 15: 100%|██████████| 217/217 [00:00<00:00, 443.28it/s]\n",
      "[Train] Epoch 16: 100%|██████████| 217/217 [00:00<00:00, 442.21it/s]\n",
      "[Train] Epoch 17: 100%|██████████| 217/217 [00:00<00:00, 443.05it/s]\n",
      "[Train] Epoch 18: 100%|██████████| 217/217 [00:00<00:00, 441.14it/s]\n",
      "[Train] Epoch 19: 100%|██████████| 217/217 [00:00<00:00, 349.40it/s]\n",
      "[Train] Epoch 20: 100%|██████████| 217/217 [00:00<00:00, 419.33it/s]\n",
      "[Train] Epoch 21: 100%|██████████| 217/217 [00:00<00:00, 420.22it/s]\n",
      "[Train] Epoch 22: 100%|██████████| 217/217 [00:00<00:00, 435.77it/s]\n",
      "[Train] Epoch 23: 100%|██████████| 217/217 [00:00<00:00, 405.02it/s]\n",
      "[Train] Epoch 24: 100%|██████████| 217/217 [00:00<00:00, 417.16it/s]\n",
      "[Train] Epoch 25: 100%|██████████| 217/217 [00:00<00:00, 446.86it/s]\n",
      "[Train] Epoch 26: 100%|██████████| 217/217 [00:00<00:00, 433.46it/s]\n",
      "[Train] Epoch 27: 100%|██████████| 217/217 [00:00<00:00, 434.41it/s]\n",
      "[Train] Epoch 28: 100%|██████████| 217/217 [00:00<00:00, 447.20it/s]\n",
      "[Train] Epoch 29: 100%|██████████| 217/217 [00:00<00:00, 442.51it/s]\n",
      "[Train] Epoch 30: 100%|██████████| 217/217 [00:00<00:00, 441.07it/s]\n",
      "[Train] Epoch 31: 100%|██████████| 217/217 [00:00<00:00, 455.69it/s]\n",
      "[Train] Epoch 32: 100%|██████████| 217/217 [00:00<00:00, 443.34it/s]\n",
      "[Train] Epoch 33: 100%|██████████| 217/217 [00:00<00:00, 443.13it/s]\n",
      "[Train] Epoch 34: 100%|██████████| 217/217 [00:00<00:00, 411.89it/s]\n",
      "[Train] Epoch 35: 100%|██████████| 217/217 [00:00<00:00, 431.37it/s]\n",
      "[Train] Epoch 36: 100%|██████████| 217/217 [00:00<00:00, 453.07it/s]\n",
      "[Train] Epoch 37: 100%|██████████| 217/217 [00:00<00:00, 429.57it/s]\n",
      "[Train] Epoch 38: 100%|██████████| 217/217 [00:00<00:00, 436.12it/s]\n",
      "[Train] Epoch 39: 100%|██████████| 217/217 [00:00<00:00, 370.24it/s]\n",
      "[Train] Epoch 40: 100%|██████████| 217/217 [00:00<00:00, 400.09it/s]\n",
      "[Train] Epoch 41: 100%|██████████| 217/217 [00:00<00:00, 439.69it/s]\n",
      "[Train] Epoch 42: 100%|██████████| 217/217 [00:00<00:00, 429.69it/s]\n",
      "[Train] Epoch 43: 100%|██████████| 217/217 [00:00<00:00, 439.32it/s]\n",
      "[Train] Epoch 44: 100%|██████████| 217/217 [00:00<00:00, 415.71it/s]\n",
      "[Train] Epoch 45: 100%|██████████| 217/217 [00:00<00:00, 445.64it/s]\n",
      "[Train] Epoch 46: 100%|██████████| 217/217 [00:00<00:00, 403.75it/s]\n",
      "[Train] Epoch 47: 100%|██████████| 217/217 [00:00<00:00, 399.72it/s]\n",
      "[Train] Epoch 48: 100%|██████████| 217/217 [00:00<00:00, 451.19it/s]\n",
      "[Train] Epoch 49: 100%|██████████| 217/217 [00:00<00:00, 432.94it/s]\n",
      "[Train] Epoch 50: 100%|██████████| 217/217 [00:00<00:00, 447.40it/s]\n"
     ]
    },
    {
     "name": "stdout",
     "output_type": "stream",
     "text": [
      "\n",
      "🚀 Training SAINT\n"
     ]
    },
    {
     "name": "stderr",
     "output_type": "stream",
     "text": [
      "[Train] Epoch 1: 100%|██████████| 217/217 [00:01<00:00, 179.68it/s]\n",
      "[Train] Epoch 2: 100%|██████████| 217/217 [00:01<00:00, 179.09it/s]\n",
      "[Train] Epoch 3: 100%|██████████| 217/217 [00:01<00:00, 183.83it/s]\n",
      "[Train] Epoch 4: 100%|██████████| 217/217 [00:01<00:00, 172.86it/s]\n",
      "[Train] Epoch 5: 100%|██████████| 217/217 [00:01<00:00, 179.39it/s]\n",
      "[Train] Epoch 6: 100%|██████████| 217/217 [00:01<00:00, 193.31it/s]\n",
      "[Train] Epoch 7: 100%|██████████| 217/217 [00:01<00:00, 176.87it/s]\n",
      "[Train] Epoch 8: 100%|██████████| 217/217 [00:01<00:00, 184.72it/s]\n",
      "[Train] Epoch 9: 100%|██████████| 217/217 [00:01<00:00, 176.98it/s]\n",
      "[Train] Epoch 10: 100%|██████████| 217/217 [00:01<00:00, 177.37it/s]\n",
      "[Train] Epoch 11: 100%|██████████| 217/217 [00:01<00:00, 182.67it/s]\n",
      "[Train] Epoch 12: 100%|██████████| 217/217 [00:01<00:00, 171.48it/s]\n",
      "[Train] Epoch 13: 100%|██████████| 217/217 [00:01<00:00, 177.15it/s]\n",
      "[Train] Epoch 14: 100%|██████████| 217/217 [00:01<00:00, 189.82it/s]\n",
      "[Train] Epoch 15: 100%|██████████| 217/217 [00:01<00:00, 188.71it/s]\n",
      "[Train] Epoch 16: 100%|██████████| 217/217 [00:01<00:00, 182.57it/s]\n",
      "[Train] Epoch 17: 100%|██████████| 217/217 [00:01<00:00, 184.88it/s]\n",
      "[Train] Epoch 18: 100%|██████████| 217/217 [00:01<00:00, 184.67it/s]\n",
      "[Train] Epoch 19: 100%|██████████| 217/217 [00:01<00:00, 173.75it/s]\n",
      "[Train] Epoch 20: 100%|██████████| 217/217 [00:01<00:00, 183.49it/s]\n",
      "[Train] Epoch 21: 100%|██████████| 217/217 [00:01<00:00, 175.91it/s]\n",
      "[Train] Epoch 22: 100%|██████████| 217/217 [00:01<00:00, 185.98it/s]\n",
      "[Train] Epoch 23: 100%|██████████| 217/217 [00:01<00:00, 175.34it/s]\n",
      "[Train] Epoch 24: 100%|██████████| 217/217 [00:01<00:00, 183.09it/s]\n",
      "[Train] Epoch 25: 100%|██████████| 217/217 [00:01<00:00, 184.58it/s]\n",
      "[Train] Epoch 26: 100%|██████████| 217/217 [00:01<00:00, 184.58it/s]\n",
      "[Train] Epoch 27: 100%|██████████| 217/217 [00:01<00:00, 182.80it/s]\n",
      "[Train] Epoch 28: 100%|██████████| 217/217 [00:01<00:00, 181.43it/s]\n",
      "[Train] Epoch 29: 100%|██████████| 217/217 [00:01<00:00, 177.86it/s]\n",
      "[Train] Epoch 30: 100%|██████████| 217/217 [00:01<00:00, 163.55it/s]\n",
      "[Train] Epoch 31: 100%|██████████| 217/217 [00:01<00:00, 179.07it/s]\n",
      "[Train] Epoch 32: 100%|██████████| 217/217 [00:01<00:00, 174.64it/s]\n",
      "[Train] Epoch 33: 100%|██████████| 217/217 [00:01<00:00, 174.66it/s]\n",
      "[Train] Epoch 34: 100%|██████████| 217/217 [00:01<00:00, 178.20it/s]\n",
      "[Train] Epoch 35: 100%|██████████| 217/217 [00:01<00:00, 166.14it/s]\n",
      "[Train] Epoch 36: 100%|██████████| 217/217 [00:01<00:00, 179.64it/s]\n",
      "[Train] Epoch 37: 100%|██████████| 217/217 [00:01<00:00, 193.27it/s]\n",
      "[Train] Epoch 38: 100%|██████████| 217/217 [00:01<00:00, 192.05it/s]\n",
      "[Train] Epoch 39: 100%|██████████| 217/217 [00:01<00:00, 178.08it/s]\n",
      "[Train] Epoch 40: 100%|██████████| 217/217 [00:01<00:00, 185.17it/s]\n",
      "[Train] Epoch 41: 100%|██████████| 217/217 [00:01<00:00, 192.20it/s]\n",
      "[Train] Epoch 42: 100%|██████████| 217/217 [00:01<00:00, 189.35it/s]\n",
      "[Train] Epoch 43: 100%|██████████| 217/217 [00:01<00:00, 188.66it/s]\n",
      "[Train] Epoch 44: 100%|██████████| 217/217 [00:01<00:00, 189.79it/s]\n",
      "[Train] Epoch 45: 100%|██████████| 217/217 [00:01<00:00, 193.01it/s]\n",
      "[Train] Epoch 46: 100%|██████████| 217/217 [00:01<00:00, 188.87it/s]\n",
      "[Train] Epoch 47: 100%|██████████| 217/217 [00:01<00:00, 175.73it/s]\n",
      "[Train] Epoch 48: 100%|██████████| 217/217 [00:01<00:00, 183.70it/s]\n",
      "[Train] Epoch 49: 100%|██████████| 217/217 [00:01<00:00, 183.38it/s]\n",
      "[Train] Epoch 50: 100%|██████████| 217/217 [00:01<00:00, 183.00it/s]\n"
     ]
    },
    {
     "name": "stdout",
     "output_type": "stream",
     "text": [
      "📊 Saved: loss_comparison.png\n",
      "\n",
      "📈 Evaluation Metrics:\n",
      "          AUC      F1  Precision  Recall\n",
      "MLP    0.8132  0.4655     0.6575  0.3603\n",
      "RNN    0.8285  0.4657     0.6825  0.3534\n",
      "SAINT  0.8286  0.4870     0.7076  0.3712\n",
      "📁 Saved: model_metrics.csv\n",
      "{'MLP': 7, 'RNN': 29, 'SAINT': 22}\n"
     ]
    },
    {
     "data": {
      "image/png": "[encoded data removed]",
      "text/plain": [
       "<Figure size 1000x600 with 1 Axes>"
      ]
     },
     "metadata": {},
     "output_type": "display_data"
    }
   ],
   "source": [
    "main()"
   ]
  }
 ],
 "metadata": {
  "kernelspec": {
   "display_name": "base",
   "language": "python",
   "name": "python3"
  },
  "language_info": {
   "codemirror_mode": {
    "name": "ipython",
    "version": 3
   },
   "file_extension": ".py",
   "mimetype": "text/x-python",
   "name": "python",
   "nbconvert_exporter": "python",
   "pygments_lexer": "ipython3",
   "version": "3.12.3"
  }
 },
 "nbformat": 4,
 "nbformat_minor": 5
}
